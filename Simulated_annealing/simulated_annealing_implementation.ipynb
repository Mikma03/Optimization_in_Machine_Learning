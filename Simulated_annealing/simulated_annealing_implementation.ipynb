{
 "cells": [
  {
   "cell_type": "markdown",
   "metadata": {},
   "source": [
    "Zostanie pokazane, jak można wdrożyć optymalizację symulowanego wyżarzania. \n",
    "\n",
    "Najpierw musimy zdefiniować naszą funkcję celu i granice kazdej zmiennej wejściowej do funkcji celu. \n",
    "\n",
    "Funkcja celu to tylko funkcja Pythona, którą będziemy nazywali  `objective()`. Granice będą tablicą 2D z jednym wymiarem dla każdej zmiennej wejściowej, który definiuje minimum i maksimum dla zmiennej. \n",
    "\n",
    "Na przykład jednowymiarowa funkcja celu i granice mozna zdefiniowac w nastepujacy sposób:"
   ]
  },
  {
   "cell_type": "code",
   "execution_count": 50,
   "metadata": {},
   "outputs": [],
   "source": [
    "# import niezbednych bibliotek\n",
    "import numpy as np\n",
    "from numpy.random import rand\n",
    "from numpy import arange\n",
    "from numpy.random import seed\n",
    "from numpy import asarray\n",
    "from numpy import exp\n",
    "from numpy.random import randn"
   ]
  },
  {
   "cell_type": "code",
   "execution_count": null,
   "metadata": {},
   "outputs": [],
   "source": [
    "def objective(x):\n",
    "    return 0\n",
    "# define range for input\n",
    "bounds = np.asarray([[-5.0, 5.0]])"
   ]
  },
  {
   "cell_type": "markdown",
   "metadata": {},
   "source": [
    "Następnie możemy wygenerować nasz punkt początkowy jako punkt losowy w granicach problemu,\n",
    "następnie mozna ocenic to za pomocą funkcji celu."
   ]
  },
  {
   "cell_type": "code",
   "execution_count": null,
   "metadata": {},
   "outputs": [],
   "source": [
    "# generate an initial point\n",
    "best = bounds[:, 0] + rand(len(bounds)) * (bounds[:, 1] - bounds[:, 0])\n",
    "# evaluate the initial point\n",
    "best_eval = objective(best)"
   ]
  },
  {
   "cell_type": "markdown",
   "metadata": {},
   "source": [
    "Musimy zachować „aktualne” rozwiązanie, na którym koncentruje się wyszukiwanie i które może być\n",
    "zastąpione lepszymi rozwiązaniami."
   ]
  },
  {
   "cell_type": "code",
   "execution_count": null,
   "metadata": {},
   "outputs": [],
   "source": [
    "# current working solution\n",
    "curr, curr_eval = best, best_eval"
   ]
  },
  {
   "cell_type": "markdown",
   "metadata": {},
   "source": [
    "Teraz możemy zapętlić predefiniowaną liczbę iteracji algorytmu zdefiniowanego jako `n_iterations`, np. 100 lub 1000."
   ]
  },
  {
   "cell_type": "code",
   "execution_count": null,
   "metadata": {},
   "outputs": [],
   "source": [
    "for i in range(n_iterations):"
   ]
  },
  {
   "cell_type": "markdown",
   "metadata": {},
   "source": [
    "Pierwszym krokiem iteracji algorytmu jest wygenerowanie nowego kandydata na rozwiązanie z obecnego\n",
    "dzialajacego rozwiazania, np. zrob nastepny krok. Wymaga to wstępnie zdefiniowanego parametru `step_size`, który:\n",
    "odnosi się do granic przestrzeni wyszukiwania. \n",
    "\n",
    "Zrobimy losowy krok z eozkladem Gaussa gdzie średnia jest naszym aktualnym punktem, a odchylenie standardowe jest określone przez\n",
    "`“step_size`. \n",
    "\n",
    "Oznacza to, że około 99 procent podjętych kroków będzie mieściło się w 3 * step_size aktualnego punktu."
   ]
  },
  {
   "cell_type": "code",
   "execution_count": null,
   "metadata": {},
   "outputs": [],
   "source": [
    "candidate = solution + randn(len(bounds)) * step_siz"
   ]
  },
  {
   "cell_type": "markdown",
   "metadata": {},
   "source": [
    "Nie musimy w ten sposób podejmować kroków. Możemy chcieć użyć równomiernego rozkładu między 0 a rozmiar kroku. \n",
    "\n",
    "Na przykład:"
   ]
  },
  {
   "cell_type": "code",
   "execution_count": null,
   "metadata": {},
   "outputs": [],
   "source": [
    "candidate = solution + rand(len(bounds)) * step_size"
   ]
  },
  {
   "cell_type": "markdown",
   "metadata": {},
   "source": [
    "Następnie musimy to ocenić."
   ]
  },
  {
   "cell_type": "code",
   "execution_count": null,
   "metadata": {},
   "outputs": [],
   "source": [
    "candidate_eval = objective(candidate)"
   ]
  },
  {
   "cell_type": "markdown",
   "metadata": {},
   "source": [
    "Następnie musimy sprawdzić, czy ocena tego nowego punktu jest tak dobra lub lepsza niż aktualna\n",
    "najlepszy punkt, a jeśli tak, zastąpić nasz obecny najlepszy punkt tym nowym punktem. \n",
    "\n",
    "To jest oddzielone od aktualnie dzialajacego rozwiazania, które jest przedmiotem poszukiwań."
   ]
  },
  {
   "cell_type": "code",
   "execution_count": null,
   "metadata": {},
   "outputs": [],
   "source": [
    "if candidate_eval < best_eval:\n",
    "    # store new best point\n",
    "    best, best_eval = candidate, candidate_eval\n",
    "    # report progress\n",
    "    print('>%d f(%s) = %.5f' % (i, best, best_eval))"
   ]
  },
  {
   "cell_type": "markdown",
   "metadata": {},
   "source": [
    "Następnie musimy przygotować się do wymiany obecnego działającego rozwiązania. \n",
    "\n",
    "Pierwszym krokiem jest obliczenie różnicy między oceną funkcji celu obecnego rozwiązania a obecnym dzialajacym rozwiazaniem\n"
   ]
  },
  {
   "cell_type": "code",
   "execution_count": null,
   "metadata": {},
   "outputs": [],
   "source": [
    "diff = candidate_eval - curr_eval"
   ]
  },
  {
   "cell_type": "markdown",
   "metadata": {},
   "source": [
    "Następnie musimy obliczyć aktualną temperaturę, korzystając z harmonogramu szybkiego wyżarzania, gdzie `temp` to początkowa temperatura podana jako argument."
   ]
  },
  {
   "cell_type": "code",
   "execution_count": null,
   "metadata": {},
   "outputs": [],
   "source": [
    "t = temp / float(i + 1)"
   ]
  },
  {
   "cell_type": "markdown",
   "metadata": {},
   "source": [
    "Możemy wtedy obliczyć prawdopodobieństwo zaakceptowania rozwiązania o gorszej wydajności niż nasze obecne dzialajace rozwiazanie."
   ]
  },
  {
   "cell_type": "code",
   "execution_count": null,
   "metadata": {},
   "outputs": [],
   "source": [
    "metropolis = exp(-diff / t)"
   ]
  },
  {
   "cell_type": "markdown",
   "metadata": {},
   "source": [
    "Wreszcie możemy zaakceptować nowy punkt jako obecnie dzialajace rozwiązanie, jeśli ma lepsza ocene fukcji celu (różnica jest ujemna) lub jeśli funkcja celu jest gorsza, ale my\n",
    "prawdopodobnie zdecydujemy się to zaakceptować."
   ]
  },
  {
   "cell_type": "code",
   "execution_count": null,
   "metadata": {},
   "outputs": [],
   "source": [
    "if diff < 0 or rand() < metropolis:\n",
    "    # store the new current point\n",
    "    curr, curr_eval = candidate, candidate_eval"
   ]
  },
  {
   "cell_type": "markdown",
   "metadata": {},
   "source": [
    "Możemy zaimplementować ten symulowany algorytm wyżarzania jako funkcję wielokrotnego użytku, która przyjmuje nazwe jako funkcje celu, granice każdej zmiennej wejściowej, suma iteracji, wielkość kroku i temperatura początkowa jako argumenty i zwraca najlepsze znalezione rozwiązanie i jego ocenę."
   ]
  },
  {
   "cell_type": "code",
   "execution_count": 51,
   "metadata": {},
   "outputs": [],
   "source": [
    "def simulated_annealing(objective, bounds, n_iterations, step_size, temp):\n",
    "\t# generate an initial point\n",
    "\tbest = bounds[:, 0] + rand(len(bounds)) * (bounds[:, 1] - bounds[:, 0])\n",
    "\t# evaluate the initial point\n",
    "\tbest_eval = objective(best)\n",
    "\t# current working solution\n",
    "\tcurr, curr_eval = best, best_eval\n",
    "\t# run the algorithm\n",
    "\tfor i in range(n_iterations):\n",
    "\t\t# take a step\n",
    "\t\tcandidate = curr + randn(len(bounds)) * step_size\n",
    "\t\t# evaluate candidate point\n",
    "\t\tcandidate_eval = objective(candidate)\n",
    "\t\t# check for new best solution\n",
    "\t\tif candidate_eval < best_eval:\n",
    "\t\t\t# store new best point\n",
    "\t\t\tbest, best_eval = candidate, candidate_eval\n",
    "\t\t\t# report progress\n",
    "\t\t\tprint('>%d f(%s) = %.5f' % (i, best, best_eval))\n",
    "\t\t# difference between candidate and current point evaluation\n",
    "\t\tdiff = candidate_eval - curr_eval\n",
    "\t\t# calculate temperature for current epoch\n",
    "\t\tt = temp / float(i + 1)\n",
    "\t\t# calculate metropolis acceptance criterion\n",
    "\t\tmetropolis = exp(-diff / t)\n",
    "\t\t# check if we should keep the new point\n",
    "\t\tif diff < 0 or rand() < metropolis:\n",
    "\t\t\t# store the new current point\n",
    "\t\t\tcurr, curr_eval = candidate, candidate_eval\n",
    "\treturn [best, best_eval]"
   ]
  },
  {
   "cell_type": "markdown",
   "metadata": {},
   "source": [
    "Poniższy przykład definiuje funkcję, a następnie tworzy wykres liniowy powierzchni odpowiedzi funkcji dla siatki wartości wejściowych i oznacza optima przy f(0,0) = 0,0 z czerwoną linią"
   ]
  },
  {
   "cell_type": "code",
   "execution_count": 52,
   "metadata": {},
   "outputs": [
    {
     "data": {
      "image/png": "[encoded data removed]",
      "text/plain": [
       "<Figure size 432x288 with 1 Axes>"
      ]
     },
     "metadata": {
      "needs_background": "light"
     },
     "output_type": "display_data"
    }
   ],
   "source": [
    "from numpy import arange\n",
    "from matplotlib import pyplot\n",
    "\n",
    "# objective function\n",
    "def objective(x):\n",
    "\treturn x[0]**2.0\n",
    "\n",
    "# define range for input\n",
    "r_min, r_max = -5.0, 5.0\n",
    "# sample input range uniformly at 0.1 increments\n",
    "inputs = arange(r_min, r_max, 0.1)\n",
    "# compute targets\n",
    "results = [objective([x]) for x in inputs]\n",
    "# create a line plot of input vs result\n",
    "pyplot.plot(inputs, results)\n",
    "# define optimal input value\n",
    "x_optima = 0.0\n",
    "# draw a vertical line at the optimal input\n",
    "pyplot.axvline(x=x_optima, ls='--', color='red')\n",
    "# show the plot\n",
    "pyplot.show()"
   ]
  },
  {
   "cell_type": "markdown",
   "metadata": {},
   "source": [
    "Zanim zastosujemy algorytm optymalizacji do problemu, poświęćmy chwilę, aby trochę lepiej zrozumieć kryterium akceptacji. Po pierwsze, harmonogram szybkiego wyżarzania to\n",
    "wykładnicza funkcja liczby iteracji. \n",
    "\n",
    "Możemy to wyjaśnić, tworząc wykres temperatury dla każdej iteracji algorytmu. Użyjemy temperatury początkowej 10 i 100 iteracji algorytmu."
   ]
  },
  {
   "cell_type": "markdown",
   "metadata": {},
   "source": [
    "Uruchomienie przykładu oblicza temperaturę dla każdej iteracji algorytmu i tworzy wykres iteracji algorytmu (oś x) w funkcji temperatury (oś y). \n",
    "\n",
    "Widzimy, że temperatura spada szybko, wykładniczo, nie liniowo, tak że po 20 iteracjach jest poniżej 1 i pozostaje niski przez pozostała część wyszukiwania."
   ]
  },
  {
   "cell_type": "code",
   "execution_count": 53,
   "metadata": {},
   "outputs": [
    {
     "data": {
      "image/png": "[encoded data removed]",
      "text/plain": [
       "<Figure size 432x288 with 1 Axes>"
      ]
     },
     "metadata": {
      "needs_background": "light"
     },
     "output_type": "display_data"
    }
   ],
   "source": [
    "# explore temperature vs algorithm iteration for simulated annealing\n",
    "from matplotlib import pyplot\n",
    "# total iterations of algorithm\n",
    "iterations = 100\n",
    "# initial temperature\n",
    "initial_temp = 10\n",
    "# array of iterations from 0 to iterations - 1\n",
    "iterations = [i for i in range(iterations)]\n",
    "# temperatures for each iterations\n",
    "temperatures = [initial_temp/float(i + 1) for i in iterations]\n",
    "# plot iterations vs temperatures\n",
    "pyplot.plot(iterations, temperatures)\n",
    "pyplot.xlabel('Iteration')\n",
    "pyplot.ylabel('Temperature')\n",
    "pyplot.show()"
   ]
  },
  {
   "cell_type": "markdown",
   "metadata": {},
   "source": [
    "Przypomnijmy, że kryterium jest funkcją temperatury, ale jest nim również funkcja tego, jak różni się obiektywna ocena nowego punktu w porównaniu z obecnym dzialajacym rozwiazaniem. \n",
    "\n",
    "W związku z tym wykreślimy kryterium dla kilku różnych „różnic w celu” wartość funkcji”, aby zobaczyć wpływ, jaki ma to na prawdopodobieństwo akceptacji. "
   ]
  },
  {
   "cell_type": "markdown",
   "metadata": {},
   "source": [
    "Uruchomienie przykładu oblicza kryterium akceptacji dla każdej iteracji algorytmu używając temperatury pokazanej dla każdej iteracji. \n",
    "\n",
    "Działka ma trzy wiersze dla trzech różnic między nowym gorszym rozwiązaniem a obecnym rozwiązaniem dzialajacym. Widzimy, że im gorsze rozwiązanie (im większa różnica), tym mniejsze prawdopodobieństwo modelu na zaakceptowanie gorszego rozwiązanie niezależnie od iteracji algorytmu, jak można by się spodziewać. \n",
    "\n",
    "Możemy zobaczyć też, że we wszystkich przypadkach prawdopodobieństwo zaakceptowania gorszych rozwiązań maleje wraz z iteracja algorytmu."
   ]
  },
  {
   "cell_type": "code",
   "execution_count": 54,
   "metadata": {},
   "outputs": [
    {
     "data": {
      "image/png": "[encoded data removed]",
      "text/plain": [
       "<Figure size 432x288 with 1 Axes>"
      ]
     },
     "metadata": {
      "needs_background": "light"
     },
     "output_type": "display_data"
    }
   ],
   "source": [
    "# explore metropolis acceptance criterion for simulated annealing\n",
    "from math import exp\n",
    "from matplotlib import pyplot\n",
    "# total iterations of algorithm\n",
    "iterations = 100\n",
    "# initial temperature\n",
    "initial_temp = 10\n",
    "# array of iterations from 0 to iterations - 1\n",
    "iterations = [i for i in range(iterations)]\n",
    "# temperatures for each iterations\n",
    "temperatures = [initial_temp/float(i + 1) for i in iterations]\n",
    "# metropolis acceptance criterion\n",
    "differences = [0.01, 0.1, 1.0]\n",
    "for d in differences:\n",
    "\tmetropolis = [exp(-d/t) for t in temperatures]\n",
    "\t# plot iterations vs metropolis\n",
    "\tlabel = 'diff=%.2f' % d\n",
    "\tpyplot.plot(iterations, metropolis, label=label)\n",
    "# inalize plot\n",
    "pyplot.xlabel('Iteration')\n",
    "pyplot.ylabel('Metropolis Criterion')\n",
    "pyplot.legend()\n",
    "pyplot.show()"
   ]
  },
  {
   "cell_type": "markdown",
   "metadata": {},
   "source": [
    "Najpierw, my zainicjujemy generator liczb pseudolosowych. Generalnie nie jest to wymagane, ale w tym przypadku chcę mieć pewność, że z każdym biegiem otrzymamy te same wyniki (taką samą sekwencję liczb losowych) algorytmu, abyśmy mogli później wykreślić wyniki."
   ]
  },
  {
   "cell_type": "code",
   "execution_count": 55,
   "metadata": {},
   "outputs": [
    {
     "name": "stdout",
     "output_type": "stream",
     "text": [
      ">34 f([-0.78753544]) = 0.62021\n",
      ">35 f([-0.76914239]) = 0.59158\n",
      ">37 f([-0.68574854]) = 0.47025\n",
      ">39 f([-0.64797564]) = 0.41987\n",
      ">40 f([-0.58914623]) = 0.34709\n",
      ">41 f([-0.55446029]) = 0.30743\n",
      ">42 f([-0.41775702]) = 0.17452\n",
      ">43 f([-0.35038542]) = 0.12277\n",
      ">50 f([-0.15799045]) = 0.02496\n",
      ">66 f([-0.11089772]) = 0.01230\n",
      ">67 f([-0.09238208]) = 0.00853\n",
      ">72 f([-0.09145261]) = 0.00836\n",
      ">75 f([-0.05129162]) = 0.00263\n",
      ">93 f([-0.02854417]) = 0.00081\n",
      ">144 f([0.00864136]) = 0.00007\n",
      ">149 f([0.00753953]) = 0.00006\n",
      ">167 f([-0.00640394]) = 0.00004\n",
      ">225 f([-0.00044965]) = 0.00000\n",
      ">503 f([-0.00036261]) = 0.00000\n",
      ">512 f([0.00013605]) = 0.00000\n",
      "Done!\n",
      "f([0.00013605]) = 0.000000\n"
     ]
    },
    {
     "data": {
      "image/png": "[encoded data removed]",
      "text/plain": [
       "<Figure size 432x288 with 1 Axes>"
      ]
     },
     "metadata": {
      "needs_background": "light"
     },
     "output_type": "display_data"
    }
   ],
   "source": [
    "# objective function\n",
    "def objective(x):\n",
    "\treturn x[0]**2.0\n",
    "\n",
    "# simulated annealing algorithm\n",
    "def simulated_annealing(objective, bounds, n_iterations, step_size, temp):\n",
    "\t# generate an initial point\n",
    "\tbest = bounds[:, 0] + rand(len(bounds)) * (bounds[:, 1] - bounds[:, 0])\n",
    "\t# evaluate the initial point\n",
    "\tbest_eval = objective(best)\n",
    "\t# current working solution\n",
    "\tcurr, curr_eval = best, best_eval\n",
    "\tscores = list()\n",
    "\t# run the algorithm\n",
    "\tfor i in range(n_iterations):\n",
    "\t\t# take a step\n",
    "\t\tcandidate = curr + randn(len(bounds)) * step_size\n",
    "\t\t# evaluate candidate point\n",
    "\t\tcandidate_eval = objective(candidate)\n",
    "\t\t# check for new best solution\n",
    "\t\tif candidate_eval < best_eval:\n",
    "\t\t\t# store new best point\n",
    "\t\t\tbest, best_eval = candidate, candidate_eval\n",
    "\t\t\t# keep track of scores\n",
    "\t\t\tscores.append(best_eval)\n",
    "\t\t\t# report progress\n",
    "\t\t\tprint('>%d f(%s) = %.5f' % (i, best, best_eval))\n",
    "\t\t# difference between candidate and current point evaluation\n",
    "\t\tdiff = candidate_eval - curr_eval\n",
    "\t\t# calculate temperature for current epoch\n",
    "\t\tt = temp / float(i + 1)\n",
    "\t\t# calculate metropolis acceptance criterion\n",
    "\t\tmetropolis = exp(-diff / t)\n",
    "\t\t# check if we should keep the new point\n",
    "\t\tif diff < 0 or rand() < metropolis:\n",
    "\t\t\t# store the new current point\n",
    "\t\t\tcurr, curr_eval = candidate, candidate_eval\n",
    "\treturn [best, best_eval, scores]\n",
    "\n",
    "# seed the pseudorandom number generator\n",
    "seed(1)\n",
    "# define range for input\n",
    "bounds = asarray([[-5.0, 5.0]])\n",
    "# define the total iterations\n",
    "n_iterations = 1000\n",
    "# define the maximum step size\n",
    "step_size = 0.1\n",
    "# initial temperature\n",
    "temp = 10\n",
    "# perform the simulated annealing search\n",
    "best, score, scores = simulated_annealing(objective, bounds, n_iterations, step_size, temp)\n",
    "print('Done!')\n",
    "print('f(%s) = %f' % (best, score))\n",
    "# line plot of best scores\n",
    "pyplot.plot(scores, '.-')\n",
    "pyplot.xlabel('Improvement Number')\n",
    "pyplot.ylabel('Evaluation f(x)')\n",
    "pyplot.show()"
   ]
  },
  {
   "cell_type": "markdown",
   "metadata": {},
   "source": [
    "Uruchomienie przykładu pokazuje postęp wyszukiwania, w tym numer iteracji, dane wejściowe do funkcji i odpowiedź funkcji celu za każdym razem, gdy następuje wykryta poprawa. Po zakończeniu wyszukiwania zostaje znalezione najlepsze rozwiązanie i raportowana jest jego ocena."
   ]
  },
  {
   "cell_type": "markdown",
   "metadata": {},
   "source": [
    "Interesujące może być przejrzenie postępu wyszukiwania w postaci wykresu liniowego, który pokazuje zmiane oceny najlepszego rozwiązania za każdym razem, gdy następuje poprawa. \n",
    "\n",
    "Podczas wyszukiwania widzimy około 20 zmian w ocenie funkcji celu za pomocą dużej zmiany początkowo i bardzo małe do niezauważalnych zmian pod koniec wyszukiwania, algorytm zbiegł się w optimum."
   ]
  },
  {
   "cell_type": "markdown",
   "metadata": {},
   "source": []
  }
 ],
 "metadata": {
  "interpreter": {
   "hash": "bb659e5826d19a9d4dbdce5e8e106959bbf6ebf861dfcc7aacf5227571a6f1d4"
  },
  "kernelspec": {
   "display_name": "Python 3.10.0 64-bit ('Simulated_annealing-4N6si_ag': pipenv)",
   "language": "python",
   "name": "python3"
  },
  "language_info": {
   "codemirror_mode": {
    "name": "ipython",
    "version": 3
   },
   "file_extension": ".py",
   "mimetype": "text/x-python",
   "name": "python",
   "nbconvert_exporter": "python",
   "pygments_lexer": "ipython3",
   "version": "3.10.0"
  },
  "orig_nbformat": 4
 },
 "nbformat": 4,
 "nbformat_minor": 2
}
