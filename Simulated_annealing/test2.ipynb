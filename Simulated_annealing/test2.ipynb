{
 "cells": [
  {
   "cell_type": "markdown",
   "metadata": {},
   "source": [
    "$$\n",
    "y = f(X)\n",
    "$$\n",
    "\n",
    "\n",
    "$y = f(X)$\n",
    "\n",
    "\n",
    "\n",
    "\n",
    "$$\n",
    "Y = X_1 + X_2\n",
    "$$\n",
    "\n",
    "$\\vec{F} = \\frac{d \\vec{p}}{dt} = m \\frac{d \\vec{v}}{dt} = m \\vec{a}$"
   ]
  },
  {
   "cell_type": "code",
   "execution_count": null,
   "metadata": {},
   "outputs": [],
   "source": []
  }
 ],
 "metadata": {
  "interpreter": {
   "hash": "bb659e5826d19a9d4dbdce5e8e106959bbf6ebf861dfcc7aacf5227571a6f1d4"
  },
  "kernelspec": {
   "display_name": "Python 3.10.0 64-bit ('Simulated_annealing-4N6si_ag': pipenv)",
   "language": "python",
   "name": "python3"
  },
  "language_info": {
   "name": "python",
   "version": "3.10.0"
  },
  "orig_nbformat": 4
 },
 "nbformat": 4,
 "nbformat_minor": 2
}
